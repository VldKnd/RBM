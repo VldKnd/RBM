{
 "cells": [
  {
   "cell_type": "code",
   "execution_count": null,
   "id": "781c85be",
   "metadata": {},
   "outputs": [],
   "source": [
    "from sklearn.model_selection import train_test_split\n",
    "from tqdm.notebook import tqdm\n",
    "import matplotlib.pyplot as plt\n",
    "from src.rbm import RBM\n",
    "import numpy as np\n",
    "import math"
   ]
  },
  {
   "cell_type": "code",
   "execution_count": 2,
   "id": "d53bb470",
   "metadata": {},
   "outputs": [],
   "source": [
    "import scipy.io\n",
    "path = \"./data/\"\n",
    "file = \"binaryalphadigs.mat\"\n",
    "mat = scipy.io.loadmat(path+file)\n",
    "\n",
    "raw_X = mat[\"dat\"]\n",
    "keys = mat[\"classlabels\"]\n",
    "raw_shape = raw_X[0][0].shape\n",
    "\n",
    "keys_to_idx = dict(zip(range(36), [str(i[0]) for i in keys[0]]))\n",
    "idx_to_keys = dict(zip([str(i[0]) for i in keys[0]], range(36)))\n",
    "\n",
    "key_to_set = dict(zip(\n",
    "        [str(i[0]) for i in keys[0]],\n",
    "        [np.concatenate([*map(lambda i: i.reshape(1, -1), x)]) for x in raw_X]\n",
    "    ))"
   ]
  },
  {
   "cell_type": "markdown",
   "id": "70154055",
   "metadata": {},
   "source": [
    "### Training"
   ]
  },
  {
   "cell_type": "code",
   "execution_count": 4,
   "id": "8c51ce02",
   "metadata": {},
   "outputs": [],
   "source": [
    "cfg_rbm = {\n",
    "    \"in_channels\":320, \n",
    "    \"out_channels\":64,\n",
    "}\n",
    "\n",
    "cfg_train = {\n",
    "    \"n_epoches\":1000,\n",
    "    \"lr\":0.1,\n",
    "    \"batch_size\":64,\n",
    "    \"shuffle\":True\n",
    "}"
   ]
  },
  {
   "cell_type": "code",
   "execution_count": 5,
   "id": "8854f61f",
   "metadata": {},
   "outputs": [],
   "source": [
    "X_ordered = np.concatenate(list(key_to_set.values()))\n",
    "labels = [np.ones(key_to_set[keys_to_idx[key]].shape[0], dtype=int)*key for key in range(36)]\n",
    "y_ordered = np.concatenate(labels)\n",
    "y_one_hot = np.zeros((y_ordered.size, y_ordered.max()+1))\n",
    "y_one_hot[np.arange(y_ordered.size), y_ordered] = 1\n",
    "X_train, X_test, y_train, y_test = train_test_split(\n",
    "                                        X_ordered,\n",
    "                                        y_one_hot,\n",
    "                                        test_size=0.25,\n",
    "                                        shuffle=True,)"
   ]
  },
  {
   "cell_type": "code",
   "execution_count": null,
   "id": "e12baa6c",
   "metadata": {},
   "outputs": [
    {
     "data": {
      "application/vnd.jupyter.widget-view+json": {
       "model_id": "e29e1d266757443f914a1bfd0e254157",
       "version_major": 2,
       "version_minor": 0
      },
      "text/plain": [
       "  0%|          | 0/1000 [00:00<?, ?it/s]"
      ]
     },
     "metadata": {},
     "output_type": "display_data"
    }
   ],
   "source": [
    "rbm = RBM(**cfg_rbm)\n",
    "losses=[]\n",
    "losses.extend(rbm.train_RBM(X_train, **cfg_train))"
   ]
  },
  {
   "cell_type": "code",
   "execution_count": null,
   "id": "b29c2fbd",
   "metadata": {},
   "outputs": [],
   "source": [
    "g = rbm.sample(X_test).reshape(-1, *raw_shape)\n",
    "p_h = rbm.forward(X_test)\n",
    "sample_h = np.random.uniform(0, 1, p_h.shape)\n",
    "h = (sample_h < p_h).astype(int)\n",
    "p_g = rbm.backward(h).reshape(-1, *raw_shape)\n",
    "\n",
    "fig, axs = plt.subplots(ncols=3, nrows=3, figsize=(20, 20))\n",
    "for i in range(3):\n",
    "    idx = np.random.randint(0, len(g)-1)\n",
    "    axs[i, 0].imshow(g[idx])\n",
    "    axs[i, 0].set_title(\"Generated\")\n",
    "\n",
    "    axs[i, 1].imshow(p_g[idx], \"gray\")\n",
    "    axs[i, 1].set_title(\"Generated Distr\")\n",
    "\n",
    "    axs[i, 2].imshow(X_test[idx].reshape(raw_shape))\n",
    "    axs[i, 2].set_title(\"Original\")\n",
    "\n",
    "plt.tight_layout()\n",
    "plt.show()"
   ]
  }
 ],
 "metadata": {
  "kernelspec": {
   "display_name": "Python 3 (ipykernel)",
   "language": "python",
   "name": "python3"
  },
  "language_info": {
   "codemirror_mode": {
    "name": "ipython",
    "version": 3
   },
   "file_extension": ".py",
   "mimetype": "text/x-python",
   "name": "python",
   "nbconvert_exporter": "python",
   "pygments_lexer": "ipython3",
   "version": "3.9.7"
  }
 },
 "nbformat": 4,
 "nbformat_minor": 5
}
